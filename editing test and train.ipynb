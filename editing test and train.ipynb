{
 "cells": [
  {
   "cell_type": "raw",
   "metadata": {},
   "source": [
    "# Reading the Data Set as tsv file\n",
    "Steps Required:\n",
    "    importing text\n",
    "    identifying html pattern\n",
    "    converting to string\n",
    "    saving as tsv file\n",
    "    \n",
    "    *applying both on train and test data set\n",
    "    "
   ]
  },
  {
   "cell_type": "code",
   "execution_count": 1,
   "metadata": {},
   "outputs": [],
   "source": [
    "import requests\n",
    "from bs4 import BeautifulSoup"
   ]
  },
  {
   "cell_type": "code",
   "execution_count": 56,
   "metadata": {},
   "outputs": [],
   "source": [
    "import pandas as pd\n",
    "import numpy as np\n",
    "import matplotlib.pyplot as plt\n",
    "import seaborn as sns\n",
    "import nltk\n",
    "%matplotlib inline"
   ]
  },
  {
   "cell_type": "code",
   "execution_count": 3,
   "metadata": {},
   "outputs": [],
   "source": [
    "df2=pd.read_csv('test.csv')"
   ]
  },
  {
   "cell_type": "code",
   "execution_count": 5,
   "metadata": {},
   "outputs": [
    {
     "data": {
      "text/html": [
       "<div>\n",
       "<style scoped>\n",
       "    .dataframe tbody tr th:only-of-type {\n",
       "        vertical-align: middle;\n",
       "    }\n",
       "\n",
       "    .dataframe tbody tr th {\n",
       "        vertical-align: top;\n",
       "    }\n",
       "\n",
       "    .dataframe thead th {\n",
       "        text-align: right;\n",
       "    }\n",
       "</style>\n",
       "<table border=\"1\" class=\"dataframe\">\n",
       "  <thead>\n",
       "    <tr style=\"text-align: right;\">\n",
       "      <th></th>\n",
       "      <th>id</th>\n",
       "      <th>title</th>\n",
       "      <th>article</th>\n",
       "    </tr>\n",
       "  </thead>\n",
       "  <tbody>\n",
       "    <tr>\n",
       "      <th>0</th>\n",
       "      <td>HE-efbc27d</td>\n",
       "      <td>How to display the current month in FTL code?</td>\n",
       "      <td>&lt;p&gt;How can I print the current month in a ftl ...</td>\n",
       "    </tr>\n",
       "    <tr>\n",
       "      <th>1</th>\n",
       "      <td>HE-d1fd267</td>\n",
       "      <td>OSX 10.8 mountain lion PEAR / PHPUnit not working</td>\n",
       "      <td>&lt;p&gt;I have installed Mountain Lion and I can't ...</td>\n",
       "    </tr>\n",
       "    <tr>\n",
       "      <th>2</th>\n",
       "      <td>HE-ffd4152</td>\n",
       "      <td>Update hidden input value with onclick event f...</td>\n",
       "      <td>&lt;p&gt;I'm working with MachForm and have this hid...</td>\n",
       "    </tr>\n",
       "    <tr>\n",
       "      <th>3</th>\n",
       "      <td>HE-d3ab268</td>\n",
       "      <td>transform a dijit select to a select list</td>\n",
       "      <td>&lt;p&gt;salam,\\r\\r\\r\\r\\nplease is it possible to  r...</td>\n",
       "    </tr>\n",
       "    <tr>\n",
       "      <th>4</th>\n",
       "      <td>HE-ed2fa45</td>\n",
       "      <td>Locking table database access for unregistered...</td>\n",
       "      <td>&lt;p&gt;Good Day Guys,&lt;/p&gt;\\r\\r\\r\\r\\n\\r\\r\\r\\r\\n&lt;p&gt;I ...</td>\n",
       "    </tr>\n",
       "  </tbody>\n",
       "</table>\n",
       "</div>"
      ],
      "text/plain": [
       "           id                                              title  \\\n",
       "0  HE-efbc27d      How to display the current month in FTL code?   \n",
       "1  HE-d1fd267  OSX 10.8 mountain lion PEAR / PHPUnit not working   \n",
       "2  HE-ffd4152  Update hidden input value with onclick event f...   \n",
       "3  HE-d3ab268          transform a dijit select to a select list   \n",
       "4  HE-ed2fa45  Locking table database access for unregistered...   \n",
       "\n",
       "                                             article  \n",
       "0  <p>How can I print the current month in a ftl ...  \n",
       "1  <p>I have installed Mountain Lion and I can't ...  \n",
       "2  <p>I'm working with MachForm and have this hid...  \n",
       "3  <p>salam,\\r\\r\\r\\r\\nplease is it possible to  r...  \n",
       "4  <p>Good Day Guys,</p>\\r\\r\\r\\r\\n\\r\\r\\r\\r\\n<p>I ...  "
      ]
     },
     "execution_count": 5,
     "metadata": {},
     "output_type": "execute_result"
    }
   ],
   "source": [
    "df2.head()"
   ]
  },
  {
   "cell_type": "code",
   "execution_count": 6,
   "metadata": {},
   "outputs": [
    {
     "name": "stdout",
     "output_type": "stream",
     "text": [
      "194323\n"
     ]
    }
   ],
   "source": [
    "print(len(df2))"
   ]
  },
  {
   "cell_type": "code",
   "execution_count": 17,
   "metadata": {},
   "outputs": [
    {
     "name": "stdout",
     "output_type": "stream",
     "text": [
      "194323\n",
      "194323\n",
      "194323\n"
     ]
    }
   ],
   "source": [
    "print(len(df2['id']))\n",
    "print(len(df2['title']))\n",
    "print(len(df2['article']))\n"
   ]
  },
  {
   "cell_type": "code",
   "execution_count": 19,
   "metadata": {},
   "outputs": [],
   "source": [
    "#removing all the html tags and data inside code tags  too\n",
    "\n",
    "import re\n",
    "\n",
    "def cleanhtml(row):\n",
    "  s=row['article']\n",
    "  cleanr = re.compile('<code>[^>]*</code>')\n",
    "  clean = re.compile('<.*?>')\n",
    "  cleantext = re.sub(cleanr, '', s)\n",
    "  cleantext = re.sub(clean, '', cleantext)\n",
    "  cleantext = ' '.join(cleantext.split())\n",
    "\n",
    "  return cleantext"
   ]
  },
  {
   "cell_type": "code",
   "execution_count": 20,
   "metadata": {},
   "outputs": [],
   "source": [
    "df2['article'] = df2.apply (lambda row: cleanhtml(row),axis=1)"
   ]
  },
  {
   "cell_type": "code",
   "execution_count": 21,
   "metadata": {},
   "outputs": [
    {
     "data": {
      "text/plain": [
       "'I am trying to build a COMPSs application developed with the C/C++ binding. When I am building the application, I got the following error. Do you have an idea about how can I solve this issue?'"
      ]
     },
     "execution_count": 21,
     "metadata": {},
     "output_type": "execute_result"
    }
   ],
   "source": [
    "df2['article'][450]"
   ]
  },
  {
   "cell_type": "code",
   "execution_count": 22,
   "metadata": {},
   "outputs": [],
   "source": [
    "import re\n",
    "import string\n",
    "from nltk.corpus import stopwords\n",
    "\n",
    "REPLACE_BY_SPACE_RE = re.compile('[/(){}\\[\\]\\|@,;]')\n",
    "BAD_SYMBOLS_RE = re.compile('[^0-9a-z #+_]')\n",
    "STOPWORDS = set(stopwords.words('english'))\n",
    "\n",
    "def text_prepare(row):\n",
    "    \"\"\"\n",
    "        text: a string\n",
    "        return: modified initial string\n",
    "    \"\"\"\n",
    "    text=row['article']\n",
    "    # 1. Lowercase text\n",
    "    text = text.lower() \n",
    "    # 2. Replace '/', '()', '{}', '[]', '|', '@', ',', ';' by space\n",
    "    text = REPLACE_BY_SPACE_RE.sub(' ',text)\n",
    "    # 3. Delete the non-alphanumerics excluding '#', '+', '_'\n",
    "    text = BAD_SYMBOLS_RE.sub('',text)\n",
    "    # 4. Delete stopwords\n",
    "    text_words = text.split()\n",
    "    text_words = [t for t in text_words if t not in STOPWORDS]\n",
    "    text = ' '.join(text_words)\n",
    "    return text\n"
   ]
  },
  {
   "cell_type": "code",
   "execution_count": 23,
   "metadata": {},
   "outputs": [],
   "source": [
    "def text_prepare_title(row):\n",
    "    \"\"\"\n",
    "        text: a string\n",
    "        return: modified initial string\n",
    "    \"\"\"\n",
    "    text=row['title']\n",
    "    # 1. Lowercase text\n",
    "    text = text.lower() \n",
    "    # 2. Replace '/', '()', '{}', '[]', '|', '@', ',', ';' by space\n",
    "    text = REPLACE_BY_SPACE_RE.sub(' ',text)\n",
    "    # 3. Delete the non-alphanumerics excluding '#', '+', '_'\n",
    "    text = BAD_SYMBOLS_RE.sub('',text)\n",
    "    # 4. Delete stopwords\n",
    "    text_words = text.split()\n",
    "    text_words = [t for t in text_words if t not in STOPWORDS]\n",
    "    text = ' '.join(text_words)\n",
    "    return text\n"
   ]
  },
  {
   "cell_type": "code",
   "execution_count": 24,
   "metadata": {},
   "outputs": [],
   "source": [
    "df2['article'] = df2.apply (lambda row: text_prepare(row),axis=1)"
   ]
  },
  {
   "cell_type": "code",
   "execution_count": 25,
   "metadata": {},
   "outputs": [],
   "source": [
    "df2['title'] = df2.apply (lambda row: text_prepare_title(row),axis=1)"
   ]
  },
  {
   "cell_type": "code",
   "execution_count": 26,
   "metadata": {},
   "outputs": [
    {
     "data": {
      "text/html": [
       "<div>\n",
       "<style scoped>\n",
       "    .dataframe tbody tr th:only-of-type {\n",
       "        vertical-align: middle;\n",
       "    }\n",
       "\n",
       "    .dataframe tbody tr th {\n",
       "        vertical-align: top;\n",
       "    }\n",
       "\n",
       "    .dataframe thead th {\n",
       "        text-align: right;\n",
       "    }\n",
       "</style>\n",
       "<table border=\"1\" class=\"dataframe\">\n",
       "  <thead>\n",
       "    <tr style=\"text-align: right;\">\n",
       "      <th></th>\n",
       "      <th>id</th>\n",
       "      <th>title</th>\n",
       "      <th>article</th>\n",
       "    </tr>\n",
       "  </thead>\n",
       "  <tbody>\n",
       "    <tr>\n",
       "      <th>0</th>\n",
       "      <td>HE-efbc27d</td>\n",
       "      <td>display current month ftl code</td>\n",
       "      <td>print current month ftl file</td>\n",
       "    </tr>\n",
       "    <tr>\n",
       "      <th>1</th>\n",
       "      <td>HE-d1fd267</td>\n",
       "      <td>osx 108 mountain lion pear phpunit working</td>\n",
       "      <td>installed mountain lion cant get phpunit work</td>\n",
       "    </tr>\n",
       "    <tr>\n",
       "      <th>2</th>\n",
       "      <td>HE-ffd4152</td>\n",
       "      <td>update hidden input value onclick event ajax d...</td>\n",
       "      <td>im working machform hidden field ive added ive...</td>\n",
       "    </tr>\n",
       "    <tr>\n",
       "      <th>3</th>\n",
       "      <td>HE-d3ab268</td>\n",
       "      <td>transform dijit select select list</td>\n",
       "      <td>salam please possible remove dropdown button d...</td>\n",
       "    </tr>\n",
       "    <tr>\n",
       "      <th>4</th>\n",
       "      <td>HE-ed2fa45</td>\n",
       "      <td>locking table database access unregistered ip ...</td>\n",
       "      <td>good day guys creating system web server thing...</td>\n",
       "    </tr>\n",
       "    <tr>\n",
       "      <th>5</th>\n",
       "      <td>HE-d49e9e8</td>\n",
       "      <td>rxjava subscriptions unsubscribe method isnt i...</td>\n",
       "      <td>code bellow need release resources unsubscript...</td>\n",
       "    </tr>\n",
       "    <tr>\n",
       "      <th>6</th>\n",
       "      <td>HE-eb48a78</td>\n",
       "      <td>moving row data one sheet another googlesheet</td>\n",
       "      <td>im trying move row data one sheet inventory an...</td>\n",
       "    </tr>\n",
       "    <tr>\n",
       "      <th>7</th>\n",
       "      <td>HE-ea1d270</td>\n",
       "      <td>silverlight mediaelement issue</td>\n",
       "      <td>using silverlight 30 + net 35 + vsts 2008 + c#...</td>\n",
       "    </tr>\n",
       "    <tr>\n",
       "      <th>8</th>\n",
       "      <td>HE-c9b93a9</td>\n",
       "      <td>check jqm popup fits users viewport</td>\n",
       "      <td>ive managed add scrollbars large jqm popups po...</td>\n",
       "    </tr>\n",
       "    <tr>\n",
       "      <th>9</th>\n",
       "      <td>HE-f575f7f</td>\n",
       "      <td>android studio activity class called activity ...</td>\n",
       "      <td>im newbie android development problem created ...</td>\n",
       "    </tr>\n",
       "  </tbody>\n",
       "</table>\n",
       "</div>"
      ],
      "text/plain": [
       "           id                                              title  \\\n",
       "0  HE-efbc27d                     display current month ftl code   \n",
       "1  HE-d1fd267         osx 108 mountain lion pear phpunit working   \n",
       "2  HE-ffd4152  update hidden input value onclick event ajax d...   \n",
       "3  HE-d3ab268                 transform dijit select select list   \n",
       "4  HE-ed2fa45  locking table database access unregistered ip ...   \n",
       "5  HE-d49e9e8  rxjava subscriptions unsubscribe method isnt i...   \n",
       "6  HE-eb48a78      moving row data one sheet another googlesheet   \n",
       "7  HE-ea1d270                     silverlight mediaelement issue   \n",
       "8  HE-c9b93a9                check jqm popup fits users viewport   \n",
       "9  HE-f575f7f  android studio activity class called activity ...   \n",
       "\n",
       "                                             article  \n",
       "0                       print current month ftl file  \n",
       "1      installed mountain lion cant get phpunit work  \n",
       "2  im working machform hidden field ive added ive...  \n",
       "3  salam please possible remove dropdown button d...  \n",
       "4  good day guys creating system web server thing...  \n",
       "5  code bellow need release resources unsubscript...  \n",
       "6  im trying move row data one sheet inventory an...  \n",
       "7  using silverlight 30 + net 35 + vsts 2008 + c#...  \n",
       "8  ive managed add scrollbars large jqm popups po...  \n",
       "9  im newbie android development problem created ...  "
      ]
     },
     "execution_count": 26,
     "metadata": {},
     "output_type": "execute_result"
    }
   ],
   "source": [
    "df2.head(10)"
   ]
  },
  {
   "cell_type": "code",
   "execution_count": 27,
   "metadata": {},
   "outputs": [
    {
     "name": "stdout",
     "output_type": "stream",
     "text": [
      "194323\n",
      "194323\n",
      "194323\n"
     ]
    }
   ],
   "source": [
    "print(len(df2['id']))\n",
    "print(len(df2['title']))\n",
    "print(len(df2['article']))"
   ]
  },
  {
   "cell_type": "code",
   "execution_count": 32,
   "metadata": {},
   "outputs": [],
   "source": [
    "df2.columns\n",
    "df2=df2[['id', 'title', 'article']]"
   ]
  },
  {
   "cell_type": "code",
   "execution_count": 38,
   "metadata": {
    "scrolled": true
   },
   "outputs": [
    {
     "name": "stdout",
     "output_type": "stream",
     "text": [
      "194323\n"
     ]
    }
   ],
   "source": [
    "print(len(df2))"
   ]
  },
  {
   "cell_type": "code",
   "execution_count": 33,
   "metadata": {},
   "outputs": [],
   "source": [
    "df2.to_csv('test_new.csv', sep=',')"
   ]
  },
  {
   "cell_type": "code",
   "execution_count": 70,
   "metadata": {},
   "outputs": [],
   "source": [
    "df=pd.read_csv('train.csv')"
   ]
  },
  {
   "cell_type": "code",
   "execution_count": 71,
   "metadata": {},
   "outputs": [
    {
     "data": {
      "text/html": [
       "<div>\n",
       "<style scoped>\n",
       "    .dataframe tbody tr th:only-of-type {\n",
       "        vertical-align: middle;\n",
       "    }\n",
       "\n",
       "    .dataframe tbody tr th {\n",
       "        vertical-align: top;\n",
       "    }\n",
       "\n",
       "    .dataframe thead th {\n",
       "        text-align: right;\n",
       "    }\n",
       "</style>\n",
       "<table border=\"1\" class=\"dataframe\">\n",
       "  <thead>\n",
       "    <tr style=\"text-align: right;\">\n",
       "      <th></th>\n",
       "      <th>id</th>\n",
       "      <th>title</th>\n",
       "      <th>article</th>\n",
       "      <th>tags</th>\n",
       "    </tr>\n",
       "  </thead>\n",
       "  <tbody>\n",
       "    <tr>\n",
       "      <th>0</th>\n",
       "      <td>HE-ece4370</td>\n",
       "      <td>Check requests to server from the application ...</td>\n",
       "      <td>&lt;p&gt;Is there a way to find what sort of request...</td>\n",
       "      <td>flash|http|websocket|communication|wireshark</td>\n",
       "    </tr>\n",
       "    <tr>\n",
       "      <th>1</th>\n",
       "      <td>HE-fad0d3b</td>\n",
       "      <td>Using Asc offset and desc in psql</td>\n",
       "      <td>&lt;p&gt;This code produces this&lt;/p&gt;\\r\\r\\r\\r\\n\\r\\r\\r...</td>\n",
       "      <td>sql|postgresql|offset</td>\n",
       "    </tr>\n",
       "    <tr>\n",
       "      <th>2</th>\n",
       "      <td>HE-ea00013</td>\n",
       "      <td>What to do when you have much permissions with...</td>\n",
       "      <td>&lt;p&gt;I'm planning to use a binary system to hand...</td>\n",
       "      <td>php|permissions|binary|bit-manipulation</td>\n",
       "    </tr>\n",
       "    <tr>\n",
       "      <th>3</th>\n",
       "      <td>HE-df1304d</td>\n",
       "      <td>React remove component from list</td>\n",
       "      <td>&lt;p&gt;Pretty new to React, coming from knockout&lt;/...</td>\n",
       "      <td>reactjs</td>\n",
       "    </tr>\n",
       "    <tr>\n",
       "      <th>4</th>\n",
       "      <td>HE-e946f8c</td>\n",
       "      <td>RPC with promises for node.js</td>\n",
       "      <td>&lt;p&gt;Are there any RPC modules which work with p...</td>\n",
       "      <td>javascript|node.js|websocket|rpc|promise</td>\n",
       "    </tr>\n",
       "  </tbody>\n",
       "</table>\n",
       "</div>"
      ],
      "text/plain": [
       "           id                                              title  \\\n",
       "0  HE-ece4370  Check requests to server from the application ...   \n",
       "1  HE-fad0d3b                  Using Asc offset and desc in psql   \n",
       "2  HE-ea00013  What to do when you have much permissions with...   \n",
       "3  HE-df1304d                   React remove component from list   \n",
       "4  HE-e946f8c                      RPC with promises for node.js   \n",
       "\n",
       "                                             article  \\\n",
       "0  <p>Is there a way to find what sort of request...   \n",
       "1  <p>This code produces this</p>\\r\\r\\r\\r\\n\\r\\r\\r...   \n",
       "2  <p>I'm planning to use a binary system to hand...   \n",
       "3  <p>Pretty new to React, coming from knockout</...   \n",
       "4  <p>Are there any RPC modules which work with p...   \n",
       "\n",
       "                                           tags  \n",
       "0  flash|http|websocket|communication|wireshark  \n",
       "1                         sql|postgresql|offset  \n",
       "2       php|permissions|binary|bit-manipulation  \n",
       "3                                       reactjs  \n",
       "4      javascript|node.js|websocket|rpc|promise  "
      ]
     },
     "execution_count": 71,
     "metadata": {},
     "output_type": "execute_result"
    }
   ],
   "source": [
    "df.head()"
   ]
  },
  {
   "cell_type": "code",
   "execution_count": 72,
   "metadata": {},
   "outputs": [],
   "source": [
    "df['article'] = df.apply (lambda row: cleanhtml(row),axis=1)"
   ]
  },
  {
   "cell_type": "code",
   "execution_count": 73,
   "metadata": {},
   "outputs": [],
   "source": [
    "df['title'] = df.apply (lambda row: text_prepare_title(row),axis=1)"
   ]
  },
  {
   "cell_type": "code",
   "execution_count": 74,
   "metadata": {},
   "outputs": [],
   "source": [
    "df=df.dropna()"
   ]
  },
  {
   "cell_type": "code",
   "execution_count": 75,
   "metadata": {},
   "outputs": [],
   "source": [
    "df.drop_duplicates(subset='tags',keep='last',inplace=True)"
   ]
  },
  {
   "cell_type": "code",
   "execution_count": 76,
   "metadata": {},
   "outputs": [
    {
     "name": "stdout",
     "output_type": "stream",
     "text": [
      "451346\n"
     ]
    }
   ],
   "source": [
    "print(len(df))"
   ]
  },
  {
   "cell_type": "raw",
   "metadata": {},
   "source": [
    "#inserting each tag to a seperate list\n",
    "def tag(row):\n",
    "    s=row['tags']\n",
    "    return s.split('|')\n",
    " "
   ]
  },
  {
   "cell_type": "raw",
   "metadata": {},
   "source": [
    "df['tags'] = df.apply (lambda row: tag(row),axis=1)"
   ]
  },
  {
   "cell_type": "code",
   "execution_count": 77,
   "metadata": {},
   "outputs": [],
   "source": [
    "df=df[['id', 'title', 'article','tags']]"
   ]
  },
  {
   "cell_type": "code",
   "execution_count": 78,
   "metadata": {},
   "outputs": [],
   "source": [
    "from sklearn.utils import shuffle\n",
    "df=shuffle(df)"
   ]
  },
  {
   "cell_type": "code",
   "execution_count": 79,
   "metadata": {},
   "outputs": [],
   "source": [
    "df.to_csv('train_new.csv', sep=',')"
   ]
  },
  {
   "cell_type": "code",
   "execution_count": 80,
   "metadata": {},
   "outputs": [
    {
     "name": "stdout",
     "output_type": "stream",
     "text": [
      "451346\n"
     ]
    }
   ],
   "source": [
    "print(len(df))"
   ]
  },
  {
   "cell_type": "code",
   "execution_count": null,
   "metadata": {},
   "outputs": [],
   "source": []
  }
 ],
 "metadata": {
  "kernelspec": {
   "display_name": "Python 3",
   "language": "python",
   "name": "python3"
  },
  "language_info": {
   "codemirror_mode": {
    "name": "ipython",
    "version": 3
   },
   "file_extension": ".py",
   "mimetype": "text/x-python",
   "name": "python",
   "nbconvert_exporter": "python",
   "pygments_lexer": "ipython3",
   "version": "3.6.5"
  }
 },
 "nbformat": 4,
 "nbformat_minor": 2
}
